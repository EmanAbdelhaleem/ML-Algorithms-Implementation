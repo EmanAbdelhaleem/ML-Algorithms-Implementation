{
  "nbformat": 4,
  "nbformat_minor": 0,
  "metadata": {
    "colab": {
      "provenance": [],
      "authorship_tag": "ABX9TyOwHZBk39R/ePyJKM9J1/rs",
      "include_colab_link": true
    },
    "kernelspec": {
      "name": "python3",
      "display_name": "Python 3"
    },
    "language_info": {
      "name": "python"
    }
  },
  "cells": [
    {
      "cell_type": "markdown",
      "metadata": {
        "id": "view-in-github",
        "colab_type": "text"
      },
      "source": [
        "<a href=\"https://colab.research.google.com/github/EmanAbdelhaleem/ML-Algorithms-Implementation/blob/main/ColorExtraction_Kmean_Implementation.ipynb\" target=\"_parent\"><img src=\"https://colab.research.google.com/assets/colab-badge.svg\" alt=\"Open In Colab\"/></a>"
      ]
    },
    {
      "cell_type": "code",
      "execution_count": null,
      "metadata": {
        "id": "DdzZywgnI-y6",
        "colab": {
          "base_uri": "https://localhost:8080/"
        },
        "outputId": "1301d1ac-47c2-4bf1-e6e0-061d55ca2f8b"
      },
      "outputs": [
        {
          "output_type": "stream",
          "name": "stdout",
          "text": [
            "Mounted at /content/drive\n"
          ]
        }
      ],
      "source": [
        "from google.colab import drive\n",
        "drive.mount('/content/drive')"
      ]
    },
    {
      "cell_type": "code",
      "source": [
        "from PIL import Image\n",
        "import numpy as np\n",
        "from matplotlib import pyplot as plt\n",
        "import matplotlib.image as mpimg\n",
        "import colorsys"
      ],
      "metadata": {
        "id": "g_l4F-UsKFps"
      },
      "execution_count": null,
      "outputs": []
    },
    {
      "cell_type": "code",
      "source": [
        "class KmeansClustering:\n",
        "\n",
        "  def __init__(self,k=3):\n",
        "    self.k = k\n",
        "    self.centroids = None\n",
        "\n",
        "  @staticmethod\n",
        "  def euclidean_distance(data_point, centroids):\n",
        "    return np.sqrt(np.sum((centroids - data_point)**2, axis = 1))  #axis = 1 makes the function work on cols\n",
        "\n",
        "  @staticmethod\n",
        "  def calculate_mean(data_points):\n",
        "    sz = len(data_points)\n",
        "    r = g = b = 0\n",
        "    for point in data_points:\n",
        "      r = r + point[0][0]\n",
        "      g = g + point[0][1]\n",
        "      b = b + point[0][2]\n",
        "\n",
        "    return tuple([r/sz,g/sz,b/sz])\n",
        "\n",
        "  @staticmethod\n",
        "  def initialize_centroids(k,data):\n",
        "    sz = len(data)\n",
        "    centroids = []\n",
        "\n",
        "    for i in range(k):\n",
        "      random_point = np.random.randint(0,sz)\n",
        "      centroids.append(data[random_point])\n",
        "    return centroids\n",
        "\n",
        "  def fit(self, X,k, max_iterations = 300):\n",
        "    np.random.seed(200)\n",
        "    self.centroids = KmeansClustering.initialize_centroids(k,X)\n",
        "\n",
        "\n",
        "    for _ in range(max_iterations):\n",
        "      y = []\n",
        "\n",
        "      for data_point in X:\n",
        "        distances = KmeansClustering.euclidean_distance(data_point, self.centroids)\n",
        "        cluster_num = np.argmin(distances)\n",
        "        y.append(cluster_num);\n",
        "\n",
        "      y= np.array(y)\n",
        "\n",
        "      clusters_grouped_points = []\n",
        "\n",
        "      for i in range(self.k):\n",
        "        clusters_grouped_points.append(np.argwhere(y == i))\n",
        "\n",
        "      new_centroids = []\n",
        "\n",
        "      for i, indices in enumerate(clusters_grouped_points):\n",
        "        if(len(indices) == 0):\n",
        "          new_centroids.append(self.centroids[i])\n",
        "        else:\n",
        "          new_centroids.append(KmeansClustering.calculate_mean(X[indices]))\n",
        "\n",
        "      new_centroids = np.array(new_centroids)\n",
        "      if np.max(self.centroids - new_centroids) < 0.0001:\n",
        "        break\n",
        "      self.centroids = new_centroids\n",
        "\n",
        "    return self.centroids\n"
      ],
      "metadata": {
        "id": "vCEg5Xq2L67-"
      },
      "execution_count": null,
      "outputs": []
    },
    {
      "cell_type": "code",
      "source": [
        "photo = \"6bc1af05c4e3065169e719d994b9fd70\"\n",
        "image = Image.open(\"/content/drive/My Drive/\" + photo + \".jpg\")\n",
        "tuples_of_pixels = list(image.getdata())\n",
        "\n",
        "def count_frequencies(pixels):\n",
        "  colorfreq = {}\n",
        "\n",
        "  for pixel in tuples_of_pixels:\n",
        "      if pixel in colorfreq:\n",
        "          colorfreq[pixel] += 1\n",
        "      else:\n",
        "          colorfreq[pixel]=1\n",
        "\n",
        "  sorted_freqs = sorted(colorfreq.items(), key=lambda x:x[1], reverse=True)\n",
        "  return sorted_freqs[:25000]\n",
        "\n",
        "\n",
        "dominant_pixels = []\n",
        "dominant_pixels_with_freqs = count_frequencies(tuples_of_pixels)\n",
        "for _ in dominant_pixels_with_freqs:\n",
        "  dominant_pixels.append(_[0])\n",
        "\n",
        "dominant_pixels = np.array(dominant_pixels)\n",
        "Dominant_colors = KmeansClustering(k=10).fit(dominant_pixels,10)\n",
        "Dominant_colors = Dominant_colors.astype(np.int64)\n",
        "\n",
        "plt.imshow([Dominant_colors], aspect='auto')\n",
        "plt.show()"
      ],
      "metadata": {
        "id": "bRi9bzvCQhEj",
        "colab": {
          "base_uri": "https://localhost:8080/",
          "height": 430
        },
        "outputId": "d7a0b028-0aae-44cc-b5bf-2e9a552152d7"
      },
      "execution_count": null,
      "outputs": [
        {
          "output_type": "display_data",
          "data": {
            "text/plain": [
              "<Figure size 640x480 with 1 Axes>"
            ],
            "image/png": "[encoded data removed]"
          },
          "metadata": {}
        }
      ]
    },
    {
      "cell_type": "code",
      "source": [],
      "metadata": {
        "id": "YXrMIcqBTnhi"
      },
      "execution_count": null,
      "outputs": []
    }
  ]
}